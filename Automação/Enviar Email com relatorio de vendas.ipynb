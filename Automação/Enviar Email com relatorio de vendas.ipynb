{
 "cells": [
  {
   "cell_type": "code",
   "execution_count": null,
   "id": "df5e34b2",
   "metadata": {},
   "outputs": [],
   "source": [
    "!pip install pyautogui"
   ]
  },
  {
   "cell_type": "code",
   "execution_count": null,
   "id": "60f4ac71",
   "metadata": {
    "scrolled": true
   },
   "outputs": [],
   "source": [
    "import pyautogui\n",
    "import pyperclip\n",
    "import time\n",
    "\n",
    "pyautogui.PAUSE = 1\n",
    "\n",
    "# PASSO 1: Entrar no sistema da empresa (no nosso caso é o link no drive)\n",
    "pyautogui.hotkey(\"ctrl\", \"t\")\n",
    "pyperclip.copy(\"https://drive.google.com/drive/folders/149xknr9JvrlEnhNWO49zPcw0PW5icxga\")\n",
    "pyautogui.hotkey(\"ctrl\", \"v\")\n",
    "pyautogui.press(\"enter\")\n",
    "\n",
    "time.sleep(5)\n",
    "\n",
    "# PASSO 2: Navegar no sistema e encontrar a base de vendas (entrar na pasta exportar)\n",
    "pyautogui.click(x=351, y=305, clicks=2)\n",
    "time.sleep(2)\n",
    "\n",
    "# PASSO 3: Fazer download da base de vendas\n",
    "pyautogui.click(x=346, y=362)\n",
    "pyautogui.click(x=1715, y=186)\n",
    "pyautogui.click(x=1468, y=593)\n",
    "time.sleep(5)\n"
   ]
  },
  {
   "cell_type": "code",
   "execution_count": null,
   "id": "78bc84ff",
   "metadata": {},
   "outputs": [],
   "source": [
    "# PASSO 4: Importar a base de vendas pro Python\n",
    "import pandas as pd\n",
    "\n",
    "tabela = pd.read_excel(r\"C:\\Users\\lucas\\Downloads\\Vendas - Dez.xlsx\")\n",
    "display(tabela)"
   ]
  },
  {
   "cell_type": "code",
   "execution_count": null,
   "id": "efb9024c",
   "metadata": {},
   "outputs": [],
   "source": [
    "# PASSO 5: Calcular os indicadores da empresa\n",
    "faturamento = tabela['Valor Final'].sum()\n",
    "print(faturamento)\n",
    "quantidade = tabela['Quantidade'].sum()\n",
    "print(quantidade)"
   ]
  },
  {
   "cell_type": "code",
   "execution_count": null,
   "id": "ffea580b",
   "metadata": {},
   "outputs": [],
   "source": [
    "# PASSO 6: Enviar um email pra diretoria com os indicadores de vendas\n",
    "\n",
    "# abre aba\n",
    "pyautogui.hotkey('ctrl', 't')\n",
    "\n",
    "# entra no link do email\n",
    "pyperclip.copy('https://mail.google.com/mail/u/3/#inbox')\n",
    "pyautogui.hotkey('ctrl', 'v')\n",
    "pyautogui.press('enter')\n",
    "time.sleep(3)\n",
    "\n",
    "# clicar no botao escrever\n",
    "pyautogui.click(x=76, y=202)\n",
    "time.sleep(1)\n",
    "\n",
    "# preencher as informações do e-mail\n",
    "pyautogui.write('excel13002@gmail.com')\n",
    "pyautogui.press('enter')\n",
    "\n",
    "pyautogui.press('tab') \n",
    "pyperclip.copy('Relatório de vendas')\n",
    "pyautogui.hotkey('ctrl', 'v')\n",
    "\n",
    "pyautogui.press('tab')\n",
    "\n",
    "texto = f\"\"\"\n",
    "Prezados,\n",
    "\n",
    "Segue relatório de vendas.\n",
    "Faturamento: R$ {faturamento:,.2f}\n",
    "Quantidade de produtos vendidos: {quantidade:,}\n",
    "\n",
    "Qualquer duvida estou à disposição\n",
    "Att.,\n",
    "Lucas CF\n",
    "\"\"\"\n",
    "\n",
    "\n",
    "pyperclip.copy(texto)\n",
    "pyautogui.hotkey('ctrl', 'v')\n",
    "\n",
    "# enviar o email\n",
    "pyautogui.hotkey('ctrl', 'enter')"
   ]
  },
  {
   "cell_type": "code",
   "execution_count": null,
   "id": "96e23e7c",
   "metadata": {},
   "outputs": [],
   "source": [
    "# Posição de onde clicar\n",
    "time.sleep(5)\n",
    "pyautogui.position()"
   ]
  }
 ],
 "metadata": {
  "kernelspec": {
   "display_name": "Python 3 (ipykernel)",
   "language": "python",
   "name": "python3"
  },
  "language_info": {
   "codemirror_mode": {
    "name": "ipython",
    "version": 3
   },
   "file_extension": ".py",
   "mimetype": "text/x-python",
   "name": "python",
   "nbconvert_exporter": "python",
   "pygments_lexer": "ipython3",
   "version": "3.9.12"
  }
 },
 "nbformat": 4,
 "nbformat_minor": 5
}
